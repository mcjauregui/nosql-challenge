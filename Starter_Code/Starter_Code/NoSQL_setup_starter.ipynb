{
 "cells": [
  {
   "cell_type": "markdown",
   "id": "9a57c4c6",
   "metadata": {},
   "source": [
    "# Eat Safe, Love"
   ]
  },
  {
   "cell_type": "markdown",
   "id": "064ef857",
   "metadata": {},
   "source": [
    "## Part 1: Database and Jupyter Notebook Set Up"
   ]
  },
  {
   "cell_type": "markdown",
   "id": "664e3c1f",
   "metadata": {},
   "source": [
    "Import the data provided in the `establishments.json` file from your Terminal. Name the database `uk_food` and the collection `establishments`.\n",
    "\n",
    "Within this markdown cell, copy the line of text you used to import the data from your Terminal. This way, future analysts will be able to repeat your process.\n",
    "\n",
    "e.g.: Import the dataset with `YOUR IMPORT TEXT HERE`  \n",
    "mongoimport --type json -d uk_food -c establishments --drop --jsonArray establishments.json\n",
    "\n",
    "***MongoDB has never worked correctly for me, despite multiple re-installations. I have to use MongoDBCompass to import files to databases.*** "
   ]
  },
  {
   "cell_type": "code",
   "execution_count": 1,
   "id": "3ecdd008",
   "metadata": {},
   "outputs": [],
   "source": [
    "# Import dependencies\n",
    "from pymongo import MongoClient\n",
    "from pprint import pprint"
   ]
  },
  {
   "cell_type": "code",
   "execution_count": 2,
   "id": "59390c4a",
   "metadata": {},
   "outputs": [],
   "source": [
    "# Create an instance of MongoClient\n",
    "mongo = MongoClient(port=27017)"
   ]
  },
  {
   "cell_type": "code",
   "execution_count": 3,
   "id": "7f9ececa",
   "metadata": {},
   "outputs": [
    {
     "name": "stdout",
     "output_type": "stream",
     "text": [
      "['admin', 'config', 'local', 'met', 'met_db', 'petsitly_marketing', 'uk_food']\n"
     ]
    }
   ],
   "source": [
    "# confirm that our new database was created\n",
    "print(mongo.list_database_names())"
   ]
  },
  {
   "cell_type": "code",
   "execution_count": 4,
   "id": "71e373c1",
   "metadata": {},
   "outputs": [],
   "source": [
    "# assign the uk_food database to a variable name\n",
    "db = mongo['uk_food']"
   ]
  },
  {
   "cell_type": "code",
   "execution_count": 5,
   "id": "ef1b89ed",
   "metadata": {},
   "outputs": [
    {
     "name": "stdout",
     "output_type": "stream",
     "text": [
      "['establishments']\n"
     ]
    }
   ],
   "source": [
    "# review the collections in our new database\n",
    "print(db.list_collection_names())"
   ]
  },
  {
   "cell_type": "code",
   "execution_count": 6,
   "id": "6a0d92df",
   "metadata": {
    "scrolled": true
   },
   "outputs": [
    {
     "name": "stdout",
     "output_type": "stream",
     "text": [
      "{'AddressLine1': 'East Cliff Pavilion',\n",
      " 'AddressLine2': 'Wear Bay Road',\n",
      " 'AddressLine3': 'Folkestone',\n",
      " 'AddressLine4': 'Kent',\n",
      " 'BusinessName': 'The Pavilion',\n",
      " 'BusinessType': 'Restaurant/Cafe/Canteen',\n",
      " 'BusinessTypeID': 1,\n",
      " 'ChangesByServerID': 0,\n",
      " 'Distance': 4591.765489457773,\n",
      " 'FHRSID': 1043695,\n",
      " 'LocalAuthorityBusinessID': 'PI/000073616',\n",
      " 'LocalAuthorityCode': '188',\n",
      " 'LocalAuthorityEmailAddress': 'foodteam@folkestone-hythe.gov.uk',\n",
      " 'LocalAuthorityName': 'Folkestone and Hythe',\n",
      " 'LocalAuthorityWebSite': 'http://www.folkestone-hythe.gov.uk',\n",
      " 'NewRatingPending': False,\n",
      " 'Phone': '',\n",
      " 'PostCode': 'CT19 6BL',\n",
      " 'RatingDate': '2018-04-04T00:00:00',\n",
      " 'RatingKey': 'fhrs_5_en-gb',\n",
      " 'RatingValue': 5,\n",
      " 'RightToReply': '',\n",
      " 'SchemeType': 'FHRS',\n",
      " '_id': ObjectId('66032f1e90bfb5be9c5308d2'),\n",
      " 'geocode': {'latitude': 51.083812, 'longitude': 1.195625},\n",
      " 'links': [{'href': 'https://api.ratings.food.gov.uk/establishments/1043695',\n",
      "            'rel': 'self'}],\n",
      " 'meta': {'dataSource': None,\n",
      "          'extractDate': '0001-01-01T00:00:00',\n",
      "          'itemCount': 0,\n",
      "          'pageNumber': 0,\n",
      "          'pageSize': 0,\n",
      "          'returncode': None,\n",
      "          'totalCount': 0,\n",
      "          'totalPages': 0},\n",
      " 'scores': {'ConfidenceInManagement': 5, 'Hygiene': 5, 'Structural': 5}}\n"
     ]
    }
   ],
   "source": [
    "# review a document in the establishments collection\n",
    "pprint(db.establishments.find_one())"
   ]
  },
  {
   "cell_type": "code",
   "execution_count": 7,
   "id": "11c9f11b",
   "metadata": {},
   "outputs": [],
   "source": [
    "# assign the collection to a variable\n",
    "establishments = db['establishments']"
   ]
  },
  {
   "cell_type": "markdown",
   "id": "d5671434",
   "metadata": {},
   "source": [
    "## Part 2: Update the Database"
   ]
  },
  {
   "cell_type": "markdown",
   "id": "314bd884",
   "metadata": {},
   "source": [
    "1. An exciting new halal restaurant just opened in Greenwich, but hasn't been rated yet. The magazine has asked you to include it in your analysis. Add the following restaurant \"Penang Flavours\" to the database."
   ]
  },
  {
   "cell_type": "code",
   "execution_count": 8,
   "id": "c2da7648",
   "metadata": {},
   "outputs": [],
   "source": [
    "# Create a dictionary for the new restaurant data\n",
    "new_establishment = {\n",
    "    \"BusinessName\":\"Penang Flavours\",\n",
    "    \"BusinessType\":\"Restaurant/Cafe/Canteen\",\n",
    "    \"BusinessTypeID\":\"\",\n",
    "    \"AddressLine1\":\"Penang Flavours\",\n",
    "    \"AddressLine2\":\"146A Plumstead Rd\",\n",
    "    \"AddressLine3\":\"London\",\n",
    "    \"AddressLine4\":\"\",\n",
    "    \"PostCode\":\"SE18 7DY\",\n",
    "    \"Phone\":\"\",\n",
    "    \"LocalAuthorityCode\":\"511\",\n",
    "    \"LocalAuthorityName\":\"Greenwich\",\n",
    "    \"LocalAuthorityWebSite\":\"http://www.royalgreenwich.gov.uk\",\n",
    "    \"LocalAuthorityEmailAddress\":\"health@royalgreenwich.gov.uk\",\n",
    "    \"scores\":{\n",
    "        \"Hygiene\":\"\",\n",
    "        \"Structural\":\"\",\n",
    "        \"ConfidenceInManagement\":\"\"\n",
    "    },\n",
    "    \"SchemeType\":\"FHRS\",\n",
    "    \"geocode\":{\n",
    "        \"longitude\":\"0.08384000\",\n",
    "        \"latitude\":\"51.49014200\"\n",
    "    },\n",
    "    \"RightToReply\":\"\",\n",
    "    \"Distance\":4623.9723280747176,\n",
    "    \"NewRatingPending\":True\n",
    "}"
   ]
  },
  {
   "cell_type": "code",
   "execution_count": 9,
   "id": "a6e5cece",
   "metadata": {},
   "outputs": [
    {
     "data": {
      "text/plain": [
       "<pymongo.results.InsertOneResult at 0x1af4f687000>"
      ]
     },
     "execution_count": 9,
     "metadata": {},
     "output_type": "execute_result"
    }
   ],
   "source": [
    "# Insert the new restaurant into the collection\n",
    "establishments.insert_one(new_establishment)"
   ]
  },
  {
   "cell_type": "code",
   "execution_count": 10,
   "id": "63bb10f9",
   "metadata": {},
   "outputs": [
    {
     "name": "stdout",
     "output_type": "stream",
     "text": [
      "{'AddressLine1': 'Penang Flavours',\n",
      " 'AddressLine2': '146A Plumstead Rd',\n",
      " 'AddressLine3': 'London',\n",
      " 'AddressLine4': '',\n",
      " 'BusinessName': 'Penang Flavours',\n",
      " 'BusinessType': 'Restaurant/Cafe/Canteen',\n",
      " 'BusinessTypeID': '1',\n",
      " 'Distance': 4623.972328074718,\n",
      " 'LocalAuthorityCode': '511',\n",
      " 'LocalAuthorityEmailAddress': 'health@royalgreenwich.gov.uk',\n",
      " 'LocalAuthorityName': 'Greenwich',\n",
      " 'LocalAuthorityWebSite': 'http://www.royalgreenwich.gov.uk',\n",
      " 'NewRatingPending': True,\n",
      " 'Phone': '',\n",
      " 'PostCode': 'SE18 7DY',\n",
      " 'RightToReply': '',\n",
      " 'SchemeType': 'FHRS',\n",
      " '_id': ObjectId('66032fca46b0aa680f7362e9'),\n",
      " 'geocode': {'latitude': 51.490142, 'longitude': 0.08384},\n",
      " 'scores': {'ConfidenceInManagement': '', 'Hygiene': '', 'Structural': ''}}\n",
      "{'AddressLine1': 'Penang Flavours',\n",
      " 'AddressLine2': '146A Plumstead Rd',\n",
      " 'AddressLine3': 'London',\n",
      " 'AddressLine4': '',\n",
      " 'BusinessName': 'Penang Flavours',\n",
      " 'BusinessType': 'Restaurant/Cafe/Canteen',\n",
      " 'BusinessTypeID': '',\n",
      " 'Distance': 4623.972328074718,\n",
      " 'LocalAuthorityCode': '511',\n",
      " 'LocalAuthorityEmailAddress': 'health@royalgreenwich.gov.uk',\n",
      " 'LocalAuthorityName': 'Greenwich',\n",
      " 'LocalAuthorityWebSite': 'http://www.royalgreenwich.gov.uk',\n",
      " 'NewRatingPending': True,\n",
      " 'Phone': '',\n",
      " 'PostCode': 'SE18 7DY',\n",
      " 'RightToReply': '',\n",
      " 'SchemeType': 'FHRS',\n",
      " '_id': ObjectId('660dd9c029b1f9099b838ce1'),\n",
      " 'geocode': {'latitude': '51.49014200', 'longitude': '0.08384000'},\n",
      " 'scores': {'ConfidenceInManagement': '', 'Hygiene': '', 'Structural': ''}}\n"
     ]
    }
   ],
   "source": [
    "# Check that the new restaurant was inserted\n",
    "\n",
    "# Filter results by business name\n",
    "query = {'BusinessName': 'Penang Flavours'}\n",
    "results = establishments.find(query)\n",
    "for result in results:\n",
    "    pprint(result)"
   ]
  },
  {
   "cell_type": "markdown",
   "id": "0ef4395a",
   "metadata": {},
   "source": [
    "2. Find the BusinessTypeID for \"Restaurant/Cafe/Canteen\" and return only the `BusinessTypeID` and `BusinessType` fields."
   ]
  },
  {
   "cell_type": "code",
   "execution_count": 11,
   "id": "93c63829",
   "metadata": {
    "scrolled": true
   },
   "outputs": [
    {
     "name": "stdout",
     "output_type": "stream",
     "text": [
      "{'BusinessType': 'Restaurant/Cafe/Canteen',\n",
      " 'BusinessTypeID': 1,\n",
      " '_id': ObjectId('66032f1e90bfb5be9c5308d2')}\n"
     ]
    }
   ],
   "source": [
    "# Find the BusinessTypeID for \"Restaurant/Cafe/Canteen\" and return only the BusinessTypeID and BusinessType fields\n",
    "query = {'BusinessType': 'Restaurant/Cafe/Canteen'}\n",
    "fields = {'BusinessTypeID': 1, 'BusinessType': 1}\n",
    "results = establishments.find(query, fields).limit(1)\n",
    "pprint(results[0])"
   ]
  },
  {
   "cell_type": "markdown",
   "id": "4e570caf",
   "metadata": {},
   "source": [
    "3. Update the new restaurant with the `BusinessTypeID` you found."
   ]
  },
  {
   "cell_type": "code",
   "execution_count": 12,
   "id": "7f599f3d",
   "metadata": {},
   "outputs": [
    {
     "data": {
      "text/plain": [
       "<pymongo.results.UpdateResult at 0x1af4f686b40>"
      ]
     },
     "execution_count": 12,
     "metadata": {},
     "output_type": "execute_result"
    }
   ],
   "source": [
    "# Update the new restaurant with the correct BusinessTypeID\n",
    "business_type_id = \"1\"\n",
    "\n",
    "#Update only one record, the one for \"Penang Flavours\"\n",
    "db.establishments.update_one(\n",
    "    {\"BusinessName\": \"Penang Flavours\"},\n",
    "    {\"$set\": {\"BusinessTypeID\": business_type_id}})"
   ]
  },
  {
   "cell_type": "code",
   "execution_count": 13,
   "id": "a6ad16f7",
   "metadata": {
    "scrolled": true
   },
   "outputs": [
    {
     "name": "stdout",
     "output_type": "stream",
     "text": [
      "{'_id': ObjectId('66032fca46b0aa680f7362e9'), 'BusinessName': 'Penang Flavours', 'BusinessType': 'Restaurant/Cafe/Canteen', 'BusinessTypeID': '1'}\n"
     ]
    }
   ],
   "source": [
    "# Confirm that the new restaurant was updated\n",
    "query = {'BusinessName': 'Penang Flavours'}\n",
    "fields = {'BusinessName': 1, 'BusinessTypeID': 1, 'BusinessType': 1}\n",
    "results = establishments.find(query, fields).limit(1)\n",
    "print(results[0])"
   ]
  },
  {
   "cell_type": "markdown",
   "id": "67281254",
   "metadata": {},
   "source": [
    "4. The magazine is not interested in any establishments in Dover, so check how many documents contain the Dover Local Authority. Then, remove any establishments within the Dover Local Authority from the database, and check the number of documents to ensure they were deleted."
   ]
  },
  {
   "cell_type": "code",
   "execution_count": 14,
   "id": "9b09d45f",
   "metadata": {},
   "outputs": [
    {
     "name": "stdout",
     "output_type": "stream",
     "text": [
      "38787\n"
     ]
    }
   ],
   "source": [
    "# Count documents before deletion\n",
    "# Syntax provided by https://bootcampspot.instructure.com/courses/4981/external_tools/313\n",
    "\n",
    "result = db.establishments.count_documents({})\n",
    "print(result)"
   ]
  },
  {
   "cell_type": "code",
   "execution_count": 15,
   "id": "049a5267",
   "metadata": {},
   "outputs": [
    {
     "name": "stdout",
     "output_type": "stream",
     "text": [
      "[{'_id': 'Ashford', 'count': 895},\n",
      " {'_id': 'York', 'count': 1},\n",
      " {'_id': 'Bexley', 'count': 1359},\n",
      " {'_id': 'Braintree', 'count': 836},\n",
      " {'_id': 'Redbridge', 'count': 1564},\n",
      " {'_id': 'Castle Point', 'count': 426},\n",
      " {'_id': 'Rushmoor', 'count': 1},\n",
      " {'_id': 'Colchester', 'count': 1423},\n",
      " {'_id': 'North Norfolk', 'count': 1},\n",
      " {'_id': 'Maldon', 'count': 466},\n",
      " {'_id': 'Salford', 'count': 1},\n",
      " {'_id': 'Swale', 'count': 891},\n",
      " {'_id': 'Dartford', 'count': 709},\n",
      " {'_id': 'Basildon', 'count': 984},\n",
      " {'_id': 'Chelmsford', 'count': 1074},\n",
      " {'_id': 'Havering', 'count': 1548},\n",
      " {'_id': 'East Renfrewshire', 'count': 108},\n",
      " {'_id': 'Dorset', 'count': 1},\n",
      " {'_id': 'Tonbridge and Malling', 'count': 744},\n",
      " {'_id': 'Lambeth', 'count': 1},\n",
      " {'_id': 'Thanet', 'count': 1199},\n",
      " {'_id': 'West Suffolk', 'count': 1},\n",
      " {'_id': 'Orkney Islands', 'count': 1},\n",
      " {'_id': 'Aberdeenshire', 'count': 27},\n",
      " {'_id': 'East Hertfordshire', 'count': 482},\n",
      " {'_id': 'Eastbourne', 'count': 907},\n",
      " {'_id': 'Gravesham', 'count': 546},\n",
      " {'_id': 'Canterbury City', 'count': 1215},\n",
      " {'_id': 'Maidstone', 'count': 965},\n",
      " {'_id': 'Sevenoaks', 'count': 696},\n",
      " {'_id': 'Thurrock', 'count': 723},\n",
      " {'_id': 'Rochford', 'count': 491},\n",
      " {'_id': 'Rother', 'count': 811},\n",
      " {'_id': 'Southend-On-Sea', 'count': 1509},\n",
      " {'_id': 'Wealden', 'count': 1033},\n",
      " {'_id': 'Hastings', 'count': 737},\n",
      " {'_id': 'Medway', 'count': 1390},\n",
      " {'_id': 'Ipswich', 'count': 28},\n",
      " {'_id': 'Bromley', 'count': 1298},\n",
      " {'_id': 'Barking and Dagenham', 'count': 1075},\n",
      " {'_id': 'Reading', 'count': 1},\n",
      " {'_id': 'Waltham Forest', 'count': 404},\n",
      " {'_id': 'Harlow', 'count': 505},\n",
      " {'_id': 'Tower Hamlets', 'count': 14},\n",
      " {'_id': 'Kensington and Chelsea', 'count': 2},\n",
      " {'_id': 'Pendle', 'count': 1},\n",
      " {'_id': 'Broxbourne', 'count': 16},\n",
      " {'_id': 'Folkestone and Hythe', 'count': 996},\n",
      " {'_id': 'Knowsley', 'count': 1},\n",
      " {'_id': 'Brentwood', 'count': 530},\n",
      " {'_id': 'Sunderland', 'count': 1},\n",
      " {'_id': 'Slough', 'count': 1},\n",
      " {'_id': 'Uttlesford', 'count': 579},\n",
      " {'_id': 'Tunbridge Wells', 'count': 748},\n",
      " {'_id': 'Arun', 'count': 1},\n",
      " {'_id': 'Lewes', 'count': 563},\n",
      " {'_id': 'South Cambridgeshire', 'count': 1},\n",
      " {'_id': 'Hackney', 'count': 5},\n",
      " {'_id': 'City of London Corporation', 'count': 37},\n",
      " {'_id': 'East Suffolk', 'count': 272},\n",
      " {'_id': 'Epping Forest', 'count': 906},\n",
      " {'_id': 'Newham', 'count': 2013},\n",
      " {'_id': 'Spelthorne', 'count': 1},\n",
      " {'_id': 'North Hertfordshire', 'count': 16},\n",
      " {'_id': 'Babergh', 'count': 192},\n",
      " {'_id': 'Tendring', 'count': 985},\n",
      " {'_id': 'Mid Sussex', 'count': 7},\n",
      " {'_id': 'Tandridge', 'count': 92},\n",
      " {'_id': 'Lewisham', 'count': 310},\n",
      " {'_id': 'Stratford-on-Avon', 'count': 1},\n",
      " {'_id': 'Greenwich', 'count': 1419}]\n"
     ]
    }
   ],
   "source": [
    "# Count documents by 'LocalAuthorityName' before deletion\n",
    "\n",
    "# Write aggregation query that counts number of documents, grouped by \"LocalAuthorityName\"\n",
    "query = [{'$group': {'_id': '$LocalAuthorityName', 'count': { '$sum': 1 }}}]\n",
    "\n",
    "# Run query with aggregate method and save results to variable\n",
    "results = list(establishments.aggregate(query))\n",
    "\n",
    "#Print results\n",
    "pprint(results)"
   ]
  },
  {
   "cell_type": "code",
   "execution_count": 16,
   "id": "768474a6",
   "metadata": {},
   "outputs": [
    {
     "name": "stdout",
     "output_type": "stream",
     "text": [
      "0\n"
     ]
    }
   ],
   "source": [
    "# Find how many documents have LocalAuthorityName as \"Dover\"\n",
    "# Filter results by LocalAuthorityName = \"Dover\"\n",
    "query = {'LocalAuthorityName': 'Dover'}\n",
    "results = establishments.count_documents(query)\n",
    "print(results)"
   ]
  },
  {
   "cell_type": "code",
   "execution_count": 17,
   "id": "a11d5f1b",
   "metadata": {},
   "outputs": [
    {
     "data": {
      "text/plain": [
       "<pymongo.results.DeleteResult at 0x1af4f7eba40>"
      ]
     },
     "execution_count": 17,
     "metadata": {},
     "output_type": "execute_result"
    }
   ],
   "source": [
    "# Delete all documents where LocalAuthorityName is \"Dover\"\n",
    "query = {'LocalAuthorityName': 'Dover'}\n",
    "establishments.delete_many(query)\n"
   ]
  },
  {
   "cell_type": "code",
   "execution_count": 18,
   "id": "2a51aba0",
   "metadata": {},
   "outputs": [],
   "source": [
    "# Check if any remaining documents include Dover\n",
    "query = {'LocalAuthorityName': 'Dover'}\n",
    "fields = {'BusinessTypeID': 1, 'BusinessType': 1, 'BusinessName': 1,'LocalAuthorityName':1}\n",
    "results = establishments.find(query, fields)\n",
    "for result in results:\n",
    "    pprint(result)"
   ]
  },
  {
   "cell_type": "code",
   "execution_count": 19,
   "id": "a6a1a616",
   "metadata": {},
   "outputs": [
    {
     "name": "stdout",
     "output_type": "stream",
     "text": [
      "38787\n"
     ]
    }
   ],
   "source": [
    "#Count documents remaining in database\n",
    "total_documents = establishments.count_documents({})\n",
    "print(total_documents)"
   ]
  },
  {
   "cell_type": "code",
   "execution_count": 20,
   "id": "8c356f7b",
   "metadata": {},
   "outputs": [
    {
     "name": "stdout",
     "output_type": "stream",
     "text": [
      "{'AddressLine1': 'East Cliff Pavilion',\n",
      " 'AddressLine2': 'Wear Bay Road',\n",
      " 'AddressLine3': 'Folkestone',\n",
      " 'AddressLine4': 'Kent',\n",
      " 'BusinessName': 'The Pavilion',\n",
      " 'BusinessType': 'Restaurant/Cafe/Canteen',\n",
      " 'BusinessTypeID': 1,\n",
      " 'ChangesByServerID': 0,\n",
      " 'Distance': 4591.765489457773,\n",
      " 'FHRSID': 1043695,\n",
      " 'LocalAuthorityBusinessID': 'PI/000073616',\n",
      " 'LocalAuthorityCode': '188',\n",
      " 'LocalAuthorityEmailAddress': 'foodteam@folkestone-hythe.gov.uk',\n",
      " 'LocalAuthorityName': 'Folkestone and Hythe',\n",
      " 'LocalAuthorityWebSite': 'http://www.folkestone-hythe.gov.uk',\n",
      " 'NewRatingPending': False,\n",
      " 'Phone': '',\n",
      " 'PostCode': 'CT19 6BL',\n",
      " 'RatingDate': '2018-04-04T00:00:00',\n",
      " 'RatingKey': 'fhrs_5_en-gb',\n",
      " 'RatingValue': 5,\n",
      " 'RightToReply': '',\n",
      " 'SchemeType': 'FHRS',\n",
      " '_id': ObjectId('66032f1e90bfb5be9c5308d2'),\n",
      " 'geocode': {'latitude': 51.083812, 'longitude': 1.195625},\n",
      " 'links': [{'href': 'https://api.ratings.food.gov.uk/establishments/1043695',\n",
      "            'rel': 'self'}],\n",
      " 'meta': {'dataSource': None,\n",
      "          'extractDate': '0001-01-01T00:00:00',\n",
      "          'itemCount': 0,\n",
      "          'pageNumber': 0,\n",
      "          'pageSize': 0,\n",
      "          'returncode': None,\n",
      "          'totalCount': 0,\n",
      "          'totalPages': 0},\n",
      " 'scores': {'ConfidenceInManagement': 5, 'Hygiene': 5, 'Structural': 5}}\n"
     ]
    }
   ],
   "source": [
    "# Check that other documents remain with 'find_one'\n",
    "# use $ne operator, which stands for \"not equal\"\n",
    "#query = {'LocalAuthorityName_1': {'$ne': 'Dover'}}\n",
    "#results = establishments.find_one(query, fields)\n",
    "\n",
    "result = db.establishments.find_one()\n",
    "pprint(result)"
   ]
  },
  {
   "cell_type": "markdown",
   "id": "e9f1662d",
   "metadata": {},
   "source": [
    "5. Some of the number values are stored as strings, when they should be stored as numbers."
   ]
  },
  {
   "cell_type": "markdown",
   "id": "c46df2df",
   "metadata": {},
   "source": [
    "Use `update_many` to convert `latitude` and `longitude` to decimal numbers."
   ]
  },
  {
   "cell_type": "code",
   "execution_count": 21,
   "id": "fd4112ce",
   "metadata": {},
   "outputs": [
    {
     "name": "stdout",
     "output_type": "stream",
     "text": [
      "Modified 1 documents\n"
     ]
    }
   ],
   "source": [
    "# Change the data type from String to Decimal for longitude and latitude\n",
    "# PyMongo syntax provided by https://bootcampspot.instructure.com/courses/4981/external_tools/313\n",
    "\n",
    "from pymongo import MongoClient\n",
    "\n",
    "# Connect to the MongoDB server\n",
    "client = MongoClient('mongodb://localhost:27017/')\n",
    "\n",
    "# Access the database\n",
    "db = client['uk_food']\n",
    "\n",
    "# Access the collection\n",
    "collection = db['establishments']\n",
    "\n",
    "#Access the geocode field\n",
    "#geocode = data.get('geocode', {})\n",
    "\n",
    "# Run the update query to convert latitude and longitude fields to double\n",
    "result = collection.update_many(\n",
    "    { \"geocode.latitude\": { \"$exists\": True }, \"geocode.longitude\": { \"$exists\": True } },\n",
    "    [\n",
    "        { \n",
    "            \"$set\": { \n",
    "                \"geocode.latitude\": { \"$toDouble\": \"$geocode.latitude\" },\n",
    "                \"geocode.longitude\": { \"$toDouble\": \"$geocode.longitude\" }\n",
    "            }\n",
    "        }\n",
    "    ]\n",
    ")\n",
    "\n",
    "print(f\"Modified {result.modified_count} documents\")\n"
   ]
  },
  {
   "cell_type": "markdown",
   "id": "142e319c",
   "metadata": {},
   "source": [
    "Use `update_many` to convert `RatingValue` to integer numbers."
   ]
  },
  {
   "cell_type": "code",
   "execution_count": null,
   "id": "e5914d31",
   "metadata": {},
   "outputs": [],
   "source": [
    "# PyMongo syntax provided by https://bootcampspot.instructure.com/courses/4981/external_tools/313\n",
    "\n",
    "# Access the database\n",
    "db = client['uk_food']\n",
    "\n",
    "# Access the collection\n",
    "collection = db['establishments']\n",
    "\n",
    "# Retrieve all documents from the collection\n",
    "documents = collection.find({})\n",
    "\n",
    "# Run the update query to convert the 'RatingValue' field to an integer\n",
    "for doc in documents:\n",
    "    # Get the current 'RatingValue' value\n",
    "    current_rating_value = doc.get('RatingValue')\n",
    "    \n",
    "    # Check if 'RatingValue' exists and is a string\n",
    "    if current_rating_value and isinstance(current_rating_value, str):\n",
    "        try:\n",
    "            # Try to convert the string value to an integer\n",
    "            new_rating_value = int(current_rating_value)\n",
    "        except ValueError:\n",
    "            # Where the conversion fails, set new_rating_value to None\n",
    "            #print(f\"Could not convert '{current_rating_value}' to an integer for document with _id: {doc['_id']}\")\n",
    "            new_rating_value = None\n",
    "        \n",
    "        # Update the document with the new integer 'RatingValue'\n",
    "        collection.update_many(\n",
    "            {\"_id\": doc[\"_id\"]},\n",
    "            {\"$set\": {\"RatingValue\": new_rating_value}}\n",
    "        )\n",
    "        \n",
    "print(f\"Modified {result.modified_count} documents\")"
   ]
  },
  {
   "cell_type": "code",
   "execution_count": null,
   "id": "04430a5b",
   "metadata": {},
   "outputs": [],
   "source": [
    "# Set non 1-5 Rating Values to Null\n",
    "#Previous query converted non 1-5 Rating Values to None, so 0 documents will be modified\n",
    "\n",
    "# Connect to the MongoDB server\n",
    "client = MongoClient('mongodb://localhost:27017/')\n",
    "\n",
    "# Access the database\n",
    "db = client['uk_food']\n",
    "\n",
    "# Access the collection\n",
    "collection = db['establishments']\n",
    "\n",
    "#Define non_ratings values\n",
    "non_ratings = [\"AwaitingInspection\", \"Awaiting Inspection\", \"AwaitingPublication\", \"Pass\", \"Exempt\"]\n",
    "\n",
    "#Run the update query convert non_ratings to Null\n",
    "result = collection.update_many({\"RatingValue\": {\"$in\": non_ratings}}, [ {'$set':{ \"RatingValue\" : None}} ])                             \n",
    "                                \n",
    "print(f\"Modified {result.modified_count} documents\")"
   ]
  },
  {
   "cell_type": "code",
   "execution_count": null,
   "id": "0deacaf9",
   "metadata": {},
   "outputs": [],
   "source": [
    "# Check that the coordinates and rating value are now numbers\n",
    "# PyMongo syntax provided by https://bootcampspot.instructure.com/courses/4981/external_tools/313\n",
    "\n",
    "# Get a sample document from the collection\n",
    "sample_document = collection.find_one()\n",
    "\n",
    "# Print the 'geocode' field if it exists\n",
    "if 'geocode' in sample_document:\n",
    "    print(\"Geocode Field:\")\n",
    "    pprint(sample_document['geocode'])\n",
    "else:\n",
    "    print(\"No 'geocode' field found in the sample document.\")\n",
    "\n",
    "# Print the 'RatingValue' field if it exists\n",
    "if 'RatingValue' in sample_document:\n",
    "    print(\"\\nRatingValue Field:\")\n",
    "    pprint(sample_document['RatingValue'])\n",
    "else:\n",
    "    print(\"No 'RatingValue' field found in the sample document.\")"
   ]
  },
  {
   "cell_type": "code",
   "execution_count": null,
   "id": "efaae068",
   "metadata": {},
   "outputs": [],
   "source": []
  }
 ],
 "metadata": {
  "kernelspec": {
   "display_name": "Python 3 (ipykernel)",
   "language": "python",
   "name": "python3"
  },
  "language_info": {
   "codemirror_mode": {
    "name": "ipython",
    "version": 3
   },
   "file_extension": ".py",
   "mimetype": "text/x-python",
   "name": "python",
   "nbconvert_exporter": "python",
   "pygments_lexer": "ipython3",
   "version": "3.11.5"
  }
 },
 "nbformat": 4,
 "nbformat_minor": 5
}
