{
 "cells": [
  {
   "cell_type": "markdown",
   "id": "9a57c4c6",
   "metadata": {},
   "source": [
    "# Eat Safe, Love"
   ]
  },
  {
   "cell_type": "markdown",
   "id": "064ef857",
   "metadata": {},
   "source": [
    "## Part 1: Database and Jupyter Notebook Set Up"
   ]
  },
  {
   "cell_type": "markdown",
   "id": "664e3c1f",
   "metadata": {},
   "source": [
    "Import the data provided in the `establishments.json` file from your Terminal. Name the database `uk_food` and the collection `establishments`.\n",
    "\n",
    "Within this markdown cell, copy the line of text you used to import the data from your Terminal. This way, future analysts will be able to repeat your process.\n",
    "\n",
    "e.g.: Import the dataset with `YOUR IMPORT TEXT HERE`  \n",
    "mongoimport --type json -d uk_food -c establishments --drop --jsonArray establishments.json\n",
    "\n",
    "***MongoDB has never worked correctly for me, despite multiple re-installations. I have to use MongoDBCompass to import files to databases.*** "
   ]
  },
  {
   "cell_type": "code",
   "execution_count": null,
   "id": "3ecdd008",
   "metadata": {},
   "outputs": [],
   "source": [
    "# Import dependencies\n",
    "from pymongo import MongoClient\n",
    "from pprint import pprint"
   ]
  },
  {
   "cell_type": "code",
   "execution_count": null,
   "id": "59390c4a",
   "metadata": {},
   "outputs": [],
   "source": [
    "# Create an instance of MongoClient\n",
    "mongo = MongoClient(port=27017)"
   ]
  },
  {
   "cell_type": "code",
   "execution_count": null,
   "id": "7f9ececa",
   "metadata": {},
   "outputs": [],
   "source": [
    "# confirm that our new database was created\n",
    "print(mongo.list_database_names())"
   ]
  },
  {
   "cell_type": "code",
   "execution_count": null,
   "id": "71e373c1",
   "metadata": {},
   "outputs": [],
   "source": [
    "# assign the uk_food database to a variable name\n",
    "db = mongo['uk_food']"
   ]
  },
  {
   "cell_type": "code",
   "execution_count": null,
   "id": "ef1b89ed",
   "metadata": {},
   "outputs": [],
   "source": [
    "# review the collections in our new database\n",
    "print(db.list_collection_names())"
   ]
  },
  {
   "cell_type": "code",
   "execution_count": null,
   "id": "6a0d92df",
   "metadata": {
    "scrolled": true
   },
   "outputs": [],
   "source": [
    "# review a document in the establishments collection\n",
    "pprint(db.establishments.find_one())"
   ]
  },
  {
   "cell_type": "code",
   "execution_count": null,
   "id": "11c9f11b",
   "metadata": {},
   "outputs": [],
   "source": [
    "# assign the collection to a variable\n",
    "establishments = db['establishments']"
   ]
  },
  {
   "cell_type": "markdown",
   "id": "d5671434",
   "metadata": {},
   "source": [
    "## Part 2: Update the Database"
   ]
  },
  {
   "cell_type": "markdown",
   "id": "314bd884",
   "metadata": {},
   "source": [
    "1. An exciting new halal restaurant just opened in Greenwich, but hasn't been rated yet. The magazine has asked you to include it in your analysis. Add the following restaurant \"Penang Flavours\" to the database."
   ]
  },
  {
   "cell_type": "code",
   "execution_count": null,
   "id": "c2da7648",
   "metadata": {},
   "outputs": [],
   "source": [
    "# Create a dictionary for the new restaurant data\n",
    "new_establishment = {\n",
    "    \"BusinessName\":\"Penang Flavours\",\n",
    "    \"BusinessType\":\"Restaurant/Cafe/Canteen\",\n",
    "    \"BusinessTypeID\":\"\",\n",
    "    \"AddressLine1\":\"Penang Flavours\",\n",
    "    \"AddressLine2\":\"146A Plumstead Rd\",\n",
    "    \"AddressLine3\":\"London\",\n",
    "    \"AddressLine4\":\"\",\n",
    "    \"PostCode\":\"SE18 7DY\",\n",
    "    \"Phone\":\"\",\n",
    "    \"LocalAuthorityCode\":\"511\",\n",
    "    \"LocalAuthorityName\":\"Greenwich\",\n",
    "    \"LocalAuthorityWebSite\":\"http://www.royalgreenwich.gov.uk\",\n",
    "    \"LocalAuthorityEmailAddress\":\"health@royalgreenwich.gov.uk\",\n",
    "    \"scores\":{\n",
    "        \"Hygiene\":\"\",\n",
    "        \"Structural\":\"\",\n",
    "        \"ConfidenceInManagement\":\"\"\n",
    "    },\n",
    "    \"SchemeType\":\"FHRS\",\n",
    "    \"geocode\":{\n",
    "        \"longitude\":\"0.08384000\",\n",
    "        \"latitude\":\"51.49014200\"\n",
    "    },\n",
    "    \"RightToReply\":\"\",\n",
    "    \"Distance\":4623.9723280747176,\n",
    "    \"NewRatingPending\":True\n",
    "}"
   ]
  },
  {
   "cell_type": "code",
   "execution_count": null,
   "id": "a6e5cece",
   "metadata": {},
   "outputs": [],
   "source": [
    "# Insert the new restaurant into the collection\n",
    "establishments.insert_one(new_establishment)"
   ]
  },
  {
   "cell_type": "code",
   "execution_count": null,
   "id": "63bb10f9",
   "metadata": {},
   "outputs": [],
   "source": [
    "# Check that the new restaurant was inserted\n",
    "\n",
    "# Filter results by business name\n",
    "query = {'BusinessName': 'Penang Flavours'}\n",
    "results = establishments.find(query)\n",
    "for result in results:\n",
    "    pprint(result)"
   ]
  },
  {
   "cell_type": "markdown",
   "id": "0ef4395a",
   "metadata": {},
   "source": [
    "2. Find the BusinessTypeID for \"Restaurant/Cafe/Canteen\" and return only the `BusinessTypeID` and `BusinessType` fields."
   ]
  },
  {
   "cell_type": "code",
   "execution_count": null,
   "id": "93c63829",
   "metadata": {
    "scrolled": true
   },
   "outputs": [],
   "source": [
    "# Find the BusinessTypeID for \"Restaurant/Cafe/Canteen\" and return only the BusinessTypeID and BusinessType fields\n",
    "query = {'BusinessType': 'Restaurant/Cafe/Canteen'}\n",
    "fields = {'BusinessTypeID': 1, 'BusinessType': 1}\n",
    "results = establishments.find(query, fields).limit(1)\n",
    "pprint(results[0])"
   ]
  },
  {
   "cell_type": "markdown",
   "id": "4e570caf",
   "metadata": {},
   "source": [
    "3. Update the new restaurant with the `BusinessTypeID` you found."
   ]
  },
  {
   "cell_type": "code",
   "execution_count": null,
   "id": "7f599f3d",
   "metadata": {},
   "outputs": [],
   "source": [
    "# Update the new restaurant with the correct BusinessTypeID\n",
    "business_type_id = \"1\"\n",
    "\n",
    "#Update only one record, the one for \"Penang Flavours\"\n",
    "db.establishments.update_one(\n",
    "    {\"BusinessName\": \"Penang Flavours\"},\n",
    "    {\"$set\": {\"BusinessTypeID\": business_type_id}})"
   ]
  },
  {
   "cell_type": "code",
   "execution_count": null,
   "id": "a6ad16f7",
   "metadata": {
    "scrolled": true
   },
   "outputs": [],
   "source": [
    "# Confirm that the new restaurant was updated\n",
    "query = {'BusinessName': 'Penang Flavours'}\n",
    "fields = {'BusinessName': 1, 'BusinessTypeID': 1, 'BusinessType': 1}\n",
    "results = establishments.find(query, fields).limit(1)\n",
    "print(results[0])"
   ]
  },
  {
   "cell_type": "markdown",
   "id": "67281254",
   "metadata": {},
   "source": [
    "4. The magazine is not interested in any establishments in Dover, so check how many documents contain the Dover Local Authority. Then, remove any establishments within the Dover Local Authority from the database, and check the number of documents to ensure they were deleted."
   ]
  },
  {
   "cell_type": "code",
   "execution_count": null,
   "id": "9b09d45f",
   "metadata": {},
   "outputs": [],
   "source": [
    "# Count documents before deletion\n",
    "# Syntax provided by https://bootcampspot.instructure.com/courses/4981/external_tools/313\n",
    "\n",
    "result = db.establishments.count_documents({})\n",
    "print(result)"
   ]
  },
  {
   "cell_type": "code",
   "execution_count": null,
   "id": "049a5267",
   "metadata": {},
   "outputs": [],
   "source": [
    "# Count documents by 'LocalAuthorityName' before deletion\n",
    "\n",
    "# Write aggregation query that counts number of documents, grouped by \"LocalAuthorityName\"\n",
    "query = [{'$group': {'_id': '$LocalAuthorityName', 'count': { '$sum': 1 }}}]\n",
    "\n",
    "# Run query with aggregate method and save results to variable\n",
    "results = list(establishments.aggregate(query))\n",
    "\n",
    "#Print results\n",
    "pprint(results)"
   ]
  },
  {
   "cell_type": "code",
   "execution_count": null,
   "id": "768474a6",
   "metadata": {},
   "outputs": [],
   "source": [
    "# Find how many documents have LocalAuthorityName as \"Dover\"\n",
    "# Filter results by LocalAuthorityName = \"Dover\"\n",
    "query = {'LocalAuthorityName': 'Dover'}\n",
    "results = establishments.count_documents(query)\n",
    "print(results)"
   ]
  },
  {
   "cell_type": "code",
   "execution_count": null,
   "id": "a11d5f1b",
   "metadata": {},
   "outputs": [],
   "source": [
    "# Delete all documents where LocalAuthorityName is \"Dover\"\n",
    "query = {'LocalAuthorityName': 'Dover'}\n",
    "establishments.delete_many(query)\n"
   ]
  },
  {
   "cell_type": "code",
   "execution_count": null,
   "id": "2a51aba0",
   "metadata": {},
   "outputs": [],
   "source": [
    "# Check if any remaining documents include Dover\n",
    "query = {'LocalAuthorityName': 'Dover'}\n",
    "fields = {'BusinessTypeID': 1, 'BusinessType': 1, 'BusinessName': 1,'LocalAuthorityName':1}\n",
    "results = establishments.find(query, fields)\n",
    "for result in results:\n",
    "    pprint(result)"
   ]
  },
  {
   "cell_type": "code",
   "execution_count": null,
   "id": "a6a1a616",
   "metadata": {},
   "outputs": [],
   "source": [
    "#Count documents remaining in database\n",
    "total_documents = establishments.count_documents({})\n",
    "print(total_documents)"
   ]
  },
  {
   "cell_type": "code",
   "execution_count": null,
   "id": "8c356f7b",
   "metadata": {},
   "outputs": [],
   "source": [
    "# Check that other documents remain with 'find_one'\n",
    "# use $ne operator, which stands for \"not equal\"\n",
    "#query = {'LocalAuthorityName_1': {'$ne': 'Dover'}}\n",
    "#results = establishments.find_one(query, fields)\n",
    "\n",
    "result = db.establishments.find_one()\n",
    "pprint(result)"
   ]
  },
  {
   "cell_type": "markdown",
   "id": "e9f1662d",
   "metadata": {},
   "source": [
    "5. Some of the number values are stored as strings, when they should be stored as numbers."
   ]
  },
  {
   "cell_type": "markdown",
   "id": "c46df2df",
   "metadata": {},
   "source": [
    "Use `update_many` to convert `latitude` and `longitude` to decimal numbers."
   ]
  },
  {
   "cell_type": "code",
   "execution_count": null,
   "id": "fd4112ce",
   "metadata": {},
   "outputs": [],
   "source": [
    "# Change the data type from String to Decimal for longitude and latitude\n",
    "# PyMongo syntax provided by https://bootcampspot.instructure.com/courses/4981/external_tools/313\n",
    "\n",
    "from pymongo import MongoClient\n",
    "\n",
    "# Connect to the MongoDB server\n",
    "client = MongoClient('mongodb://localhost:27017/')\n",
    "\n",
    "# Access the database\n",
    "db = client['uk_food']\n",
    "\n",
    "# Access the collection\n",
    "collection = db['establishments']\n",
    "\n",
    "#Access the geocode field\n",
    "#geocode = data.get('geocode', {})\n",
    "\n",
    "# Run the update query to convert latitude and longitude fields to double\n",
    "result = collection.update_many(\n",
    "    { \"geocode.latitude\": { \"$exists\": True }, \"geocode.longitude\": { \"$exists\": True } },\n",
    "    [\n",
    "        { \n",
    "            \"$set\": { \n",
    "                \"geocode.latitude\": { \"$toDouble\": \"$geocode.latitude\" },\n",
    "                \"geocode.longitude\": { \"$toDouble\": \"$geocode.longitude\" }\n",
    "            }\n",
    "        }\n",
    "    ]\n",
    ")\n",
    "\n",
    "print(f\"Modified {result.modified_count} documents\")\n"
   ]
  },
  {
   "cell_type": "markdown",
   "id": "142e319c",
   "metadata": {},
   "source": [
    "Use `update_many` to convert `RatingValue` to integer numbers."
   ]
  },
  {
   "cell_type": "code",
   "execution_count": null,
   "id": "e5914d31",
   "metadata": {},
   "outputs": [],
   "source": [
    "# PyMongo syntax provided by https://bootcampspot.instructure.com/courses/4981/external_tools/313\n",
    "\n",
    "# Access the database\n",
    "db = client['uk_food']\n",
    "\n",
    "# Access the collection\n",
    "collection = db['establishments']\n",
    "\n",
    "# Retrieve all documents from the collection\n",
    "documents = collection.find({})\n",
    "\n",
    "# Run the update query to convert the 'RatingValue' field to an integer\n",
    "for doc in documents:\n",
    "    # Get the current 'RatingValue' value\n",
    "    current_rating_value = doc.get('RatingValue')\n",
    "    \n",
    "    # Check if 'RatingValue' exists and is a string\n",
    "    if current_rating_value and isinstance(current_rating_value, str):\n",
    "        try:\n",
    "            # Try to convert the string value to an integer\n",
    "            new_rating_value = int(current_rating_value)\n",
    "        except ValueError:\n",
    "            # Where the conversion fails, set new_rating_value to None\n",
    "            #print(f\"Could not convert '{current_rating_value}' to an integer for document with _id: {doc['_id']}\")\n",
    "            new_rating_value = None\n",
    "        \n",
    "        # Update the document with the new integer 'RatingValue'\n",
    "        collection.update_many(\n",
    "            {\"_id\": doc[\"_id\"]},\n",
    "            {\"$set\": {\"RatingValue\": new_rating_value}}\n",
    "        )\n",
    "        \n",
    "print(f\"Modified {result.modified_count} documents\")"
   ]
  },
  {
   "cell_type": "code",
   "execution_count": null,
   "id": "04430a5b",
   "metadata": {},
   "outputs": [],
   "source": [
    "# Set non 1-5 Rating Values to Null\n",
    "#Previous query converted non 1-5 Rating Values to None, so 0 documents will be modified\n",
    "\n",
    "# Connect to the MongoDB server\n",
    "client = MongoClient('mongodb://localhost:27017/')\n",
    "\n",
    "# Access the database\n",
    "db = client['uk_food']\n",
    "\n",
    "# Access the collection\n",
    "collection = db['establishments']\n",
    "\n",
    "#Define non_ratings values\n",
    "non_ratings = [\"AwaitingInspection\", \"Awaiting Inspection\", \"AwaitingPublication\", \"Pass\", \"Exempt\"]\n",
    "\n",
    "#Run the update query convert non_ratings to Null\n",
    "result = collection.update_many({\"RatingValue\": {\"$in\": non_ratings}}, [ {'$set':{ \"RatingValue\" : None}} ])                             \n",
    "                                \n",
    "print(f\"Modified {result.modified_count} documents\")"
   ]
  },
  {
   "cell_type": "code",
   "execution_count": null,
   "id": "0deacaf9",
   "metadata": {},
   "outputs": [],
   "source": [
    "# Check that the coordinates and rating value are now numbers\n",
    "# PyMongo syntax provided by https://bootcampspot.instructure.com/courses/4981/external_tools/313\n",
    "\n",
    "# Get a sample document from the collection\n",
    "sample_document = collection.find_one()\n",
    "\n",
    "# Print the 'geocode' field if it exists\n",
    "if 'geocode' in sample_document:\n",
    "    print(\"Geocode Field:\")\n",
    "    pprint(sample_document['geocode'])\n",
    "else:\n",
    "    print(\"No 'geocode' field found in the sample document.\")\n",
    "\n",
    "# Print the 'RatingValue' field if it exists\n",
    "if 'RatingValue' in sample_document:\n",
    "    print(\"\\nRatingValue Field:\")\n",
    "    pprint(sample_document['RatingValue'])\n",
    "else:\n",
    "    print(\"No 'RatingValue' field found in the sample document.\")"
   ]
  },
  {
   "cell_type": "code",
   "execution_count": null,
   "id": "efaae068",
   "metadata": {},
   "outputs": [],
   "source": []
  }
 ],
 "metadata": {
  "kernelspec": {
   "display_name": "Python 3 (ipykernel)",
   "language": "python",
   "name": "python3"
  },
  "language_info": {
   "codemirror_mode": {
    "name": "ipython",
    "version": 3
   },
   "file_extension": ".py",
   "mimetype": "text/x-python",
   "name": "python",
   "nbconvert_exporter": "python",
   "pygments_lexer": "ipython3",
   "version": "3.11.5"
  }
 },
 "nbformat": 4,
 "nbformat_minor": 5
}
