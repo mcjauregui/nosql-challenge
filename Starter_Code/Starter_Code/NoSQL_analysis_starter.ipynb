{
 "cells": [
  {
   "cell_type": "markdown",
   "id": "9a57c4c6",
   "metadata": {},
   "source": [
    "# Eat Safe, Love"
   ]
  },
  {
   "cell_type": "markdown",
   "id": "064ef857",
   "metadata": {},
   "source": [
    "## Notebook Set Up"
   ]
  },
  {
   "cell_type": "code",
   "execution_count": null,
   "id": "3ecdd008",
   "metadata": {},
   "outputs": [],
   "source": [
    "from pymongo import MongoClient\n",
    "import pandas as pd\n",
    "from pprint import pprint"
   ]
  },
  {
   "cell_type": "code",
   "execution_count": null,
   "id": "59390c4a",
   "metadata": {},
   "outputs": [],
   "source": [
    "# Create an instance of MongoClient\n",
    "mongo = MongoClient(port=27017)"
   ]
  },
  {
   "cell_type": "code",
   "execution_count": null,
   "id": "71e373c1",
   "metadata": {},
   "outputs": [],
   "source": [
    "# assign the uk_food database to a variable name\n",
    "db = mongo['uk_food']"
   ]
  },
  {
   "cell_type": "code",
   "execution_count": null,
   "id": "18ab463c",
   "metadata": {},
   "outputs": [],
   "source": [
    "# review the collections in our database\n",
    "print(db.list_collection_names())"
   ]
  },
  {
   "cell_type": "code",
   "execution_count": null,
   "id": "11c9f11b",
   "metadata": {},
   "outputs": [],
   "source": [
    "# assign the collection to a variable\n",
    "establishments = db['establishments']"
   ]
  },
  {
   "cell_type": "markdown",
   "id": "d5671434",
   "metadata": {},
   "source": [
    "## Part 3: Exploratory Analysis\n",
    "Unless otherwise stated, for each question: \n",
    "* Use `count_documents` to display the number of documents contained in the result.\n",
    "* Display the first document in the results using `pprint`.\n",
    "* Convert the result to a Pandas DataFrame, print the number of rows in the DataFrame, and display the first 10 rows."
   ]
  },
  {
   "cell_type": "markdown",
   "id": "314bd884",
   "metadata": {},
   "source": [
    "### 1. Which establishments have a hygiene score equal to 20?"
   ]
  },
  {
   "cell_type": "code",
   "execution_count": null,
   "id": "c2da7648",
   "metadata": {},
   "outputs": [],
   "source": [
    "# Find the establishments with a hygiene score of 20\n",
    "#'scores': {'ConfidenceInManagement': 5, 'Hygiene': 5, 'Structural': 5}}\n",
    "\n",
    "# Use count_documents to display the number of documents in the result\n",
    "query = {'scores.Hygiene': 20}\n",
    "results01 = establishments.count_documents(query)\n",
    "print(f\"{results01} establishments have a hygiene score equal to 20.\")\n",
    "    \n",
    "# Display the first document in the results using pprint\n",
    "results02 = establishments.find(query).limit(1)\n",
    "pprint(list(results02))"
   ]
  },
  {
   "cell_type": "code",
   "execution_count": null,
   "id": "a6e5cece",
   "metadata": {},
   "outputs": [],
   "source": [
    "# Convert the result to a Pandas DataFrame\n",
    "from pymongo import MongoClient\n",
    "import pandas as pd\n",
    "from pprint import pprint\n",
    "\n",
    "query = {'scores.Hygiene': 20}\n",
    "results02 = establishments.find(query).limit(1)\n",
    "\n",
    "# a. Convert results to list\n",
    "# initialize empty list\n",
    "document_list = []\n",
    "# iterate over cursor object\n",
    "for document in results02:\n",
    "    document_list.append(document)\n",
    "# document_list now contains all documents from results02\n",
    "pprint(document_list)\n",
    "\n",
    "#b. Create Pandas DataFrame from list\n",
    "result_df = pd.DataFrame()\n",
    "result_df = pd.DataFrame(document_list)\n",
    "#print(result_df)\n",
    "\n",
    "# Display the number of rows in the DataFrame\n",
    "print(\"Number of rows in result_df:\", result_df.shape[0])\n",
    "\n",
    "# Display the first 10 rows of the DataFrame\n",
    "print(result_df.head())"
   ]
  },
  {
   "cell_type": "markdown",
   "id": "0ef4395a",
   "metadata": {},
   "source": [
    "### 2. Which establishments in London have a `RatingValue` greater than or equal to 4?"
   ]
  },
  {
   "cell_type": "code",
   "execution_count": null,
   "id": "93c63829",
   "metadata": {},
   "outputs": [],
   "source": [
    "# Find the establishments with London as the Local Authority and has a RatingValue greater than or equal to 4.\n",
    "# 'City of London Corporation'\n",
    "\n",
    "query = {'$and': [\n",
    "        {'LocalAuthorityName': {'$regex': \"London\"}},\n",
    "        {'RatingValue': {'$gte': 4}}\n",
    "        ]}\n",
    "\n",
    "results1 = establishments.find(query)\n",
    "\n",
    "# Use count_documents to display the number of documents in the result\n",
    "results2 = establishments.count_documents(query)\n",
    "print(f\"{results2} establishments in London have a rating value greater than or equal to 4.\")\n",
    "\n",
    "# Display the first document in the results using pprint\n",
    "results3 = establishments.find(query).limit(1)\n",
    "pprint(list(results3))"
   ]
  },
  {
   "cell_type": "code",
   "execution_count": null,
   "id": "07e24ccb",
   "metadata": {},
   "outputs": [],
   "source": [
    "# Convert the result to a Pandas DataFrame\n",
    "results3 = establishments.find(query).limit(1)\n",
    "# a. Convert results to list\n",
    "document_list = []\n",
    "for document in results3:\n",
    "    document_list.append(document)\n",
    "# document_list now contains all documents from results3\n",
    "pprint(document_list)\n",
    "\n",
    "#b. Create Pandas DataFrame from list\n",
    "result_df = pd.DataFrame()\n",
    "result_df = pd.DataFrame(document_list)\n",
    "\n",
    "# Display the number of rows in the DataFrame\n",
    "print(\"Number of rows in result_df:\", result_df.shape[0])\n",
    "\n",
    "# Display the first 10 rows of the DataFrame\n",
    "print(result_df.head())"
   ]
  },
  {
   "cell_type": "markdown",
   "id": "4e570caf",
   "metadata": {},
   "source": [
    "### 3. What are the top 5 establishments with a `RatingValue` rating value of 5, sorted by lowest hygiene score, nearest to the new restaurant added, \"Penang Flavours\"?"
   ]
  },
  {
   "cell_type": "code",
   "execution_count": null,
   "id": "7f599f3d",
   "metadata": {
    "scrolled": true
   },
   "outputs": [],
   "source": [
    "# Search within 0.01 degree on either side of the latitude and longitude.\n",
    "# Rating value must equal 5\n",
    "# Sort by hygiene score\n",
    "\n",
    "#degree_search = 0.01   #latitude =   #longitude =   #query =   #sort =    #limit = 5\n",
    "\n",
    "# https://bootcampspot.instructure.com/courses/4981/external_tools/ provided assistance\n",
    "\n",
    "#To iterate over documents in collection, must first use find() method to retrieve cursor object\n",
    "#establishments.find({}) retrieves all documents in 'establishments' collection and returns cursor object that can be\n",
    "#iterated over to access each document\n",
    "cursor = establishments.find({})  # Retrieve all documents in collection\n",
    "\n",
    "# Define establishment name to search for\n",
    "establishment_name = 'Penang Flavours'\n",
    "\n",
    "# Define search radius (0.01 degree)\n",
    "degree_search = 0.01\n",
    "\n",
    "# Define empty list to store RativgValue5 establishments within specified range\n",
    "rated_establishments_within_radius = []\n",
    "\n",
    "# Iterate over documents to find establishment \"at center\" based on BusinessName and retrieve its lat, lon values   \n",
    "for doc in cursor:\n",
    "    if doc.get('BusinessName') == establishment_name:\n",
    "        center_latitude = doc.get('geocode').get('latitude')\n",
    "        center_longitude = doc.get('geocode').get('longitude')\n",
    "\n",
    "        # Define latitude and longitude ranges based on center latitude, center longitude, and search radius\n",
    "        latitude_range = [center_latitude - degree_search, center_latitude + degree_search]\n",
    "        longitude_range = [center_longitude - degree_search, center_longitude + degree_search]\n",
    "\n",
    "        # Construct query to find establishments within specified range\n",
    "        query = {\n",
    "            \"geocode.latitude\": {\"$gte\": latitude_range[0], \"$lte\": latitude_range[1]},\n",
    "            \"geocode.longitude\": {\"$gte\": longitude_range[0], \"$lte\": longitude_range[1]},\n",
    "            \"RatingValue\": 5\n",
    "        }       \n",
    "    \n",
    "#Get query results in form of list, because .find must be used on lists\n",
    "rated_establishments_within_radius = list(establishments.find(query))\n",
    "\n",
    "# Count number of documents in query result using count_documents\n",
    "num_documents = establishments.count_documents(query)\n",
    "\n",
    "# Print the number of documents in query result\n",
    "print(\"Number of documents in the query result:\", num_documents)\n",
    "           \n",
    "# Display first document in list\n",
    "pprint(rated_establishments_within_radius[:1])"
   ]
  },
  {
   "cell_type": "code",
   "execution_count": null,
   "id": "725c8671",
   "metadata": {
    "scrolled": false
   },
   "outputs": [],
   "source": [
    "# Sort by hygiene score\n",
    "#Assistance provided by https://bootcampspot.instructure.com/courses/4981/external_tools/313\n",
    "\n",
    "# Assuming establishments is collection and Hygiene is nested within scores\n",
    "# Sort list by hygiene value in ascending order\n",
    "sorted_establishments = sorted(rated_establishments_within_radius, key=lambda x: x['scores']['Hygiene'])\n",
    "\n",
    "# Display one document in sorted_establishments list\n",
    "pprint(sorted_establishments[:1])\n",
    "\n",
    "# Convert sorted_establishments list of dictionaries to Pandas DataFrame\n",
    "sorted_establishments_df = pd.DataFrame()\n",
    "sorted_establishments_df = pd.DataFrame(sorted_establishments)\n",
    "\n",
    "num_rows = sorted_establishments_df.shape[0]\n",
    "print(\"Number of rows in the DataFrame:\", num_rows)"
   ]
  },
  {
   "cell_type": "code",
   "execution_count": null,
   "id": "a6ad16f7",
   "metadata": {},
   "outputs": [],
   "source": [
    "# Print first 10 rows of data frame\n",
    "pprint(sorted_establishments_df.head(10))"
   ]
  },
  {
   "cell_type": "markdown",
   "id": "67281254",
   "metadata": {},
   "source": [
    "### 4. How many establishments in each Local Authority area have a hygiene score of 0?"
   ]
  },
  {
   "cell_type": "code",
   "execution_count": null,
   "id": "4eeb227e",
   "metadata": {},
   "outputs": [],
   "source": [
    "# Create a pipeline that:\n",
    "# 1. Matches establishments with a hygiene score of 0\n",
    "# 2. Groups the matches by Local Authority\n",
    "# 3. Sorts the matches from highest to lowest\n",
    "\n",
    "# https://bootcampspot.instructure.com/courses/4981/external_tools/ provided assistance\n",
    "# Write match query to find only documents with hygiene score of 0\n",
    "match_query = {'$match': {'scores.Hygiene': 0}}\n",
    "\n",
    "#Output of previous query serves as input for this next query in aggregation pipeline\n",
    "group_query = {'$group': {'_id': \"$LocalAuthorityName\", 'count': { '$sum': 1 }}}\n",
    "\n",
    "# Create dictionary that will allow pipeline to sort by LocalAuthorityName count in descending order\n",
    "sort_values = {'$sort': { 'count': -1}}\n",
    "\n",
    "# Put pipeline together\n",
    "pipeline = [match_query, group_query, sort_values]              \n",
    "result = establishments.aggregate(pipeline)  \n",
    "\n",
    "# Iterate over the cursor to get the actual documents\n",
    "documents = list(result)\n",
    "\n",
    "# Count the number of documents in the query result\n",
    "num_documents = len(documents)\n",
    "\n",
    "# Print the number of documents in the query result\n",
    "print(\"Number of documents in the query result:\", num_documents)\n",
    "\n",
    "# Display the first document in the list\n",
    "if documents:     #checks if documents list is not empty; if documents: will be True if documents list contains at least one document\n",
    "    pprint(documents[0])   #print the first doc (index 0) in documents\n",
    "\n",
    "#Convert the result to a Pandas DataFrame, print the number of rows in the DataFrame, and display the first 10 rows.\n",
    "documents_df = pd.DataFrame()\n",
    "documents_df = pd.DataFrame(documents)\n",
    "\n",
    "num_rows = documents_df.shape[0]\n",
    "print(\"Number of rows in the DataFrame:\", num_rows)\n",
    "\n",
    "# Display the first 10 rows of the DataFrame\n",
    "print(documents_df.head(10))\n"
   ]
  },
  {
   "cell_type": "code",
   "execution_count": null,
   "id": "ed048e80",
   "metadata": {},
   "outputs": [],
   "source": []
  }
 ],
 "metadata": {
  "kernelspec": {
   "display_name": "Python 3 (ipykernel)",
   "language": "python",
   "name": "python3"
  },
  "language_info": {
   "codemirror_mode": {
    "name": "ipython",
    "version": 3
   },
   "file_extension": ".py",
   "mimetype": "text/x-python",
   "name": "python",
   "nbconvert_exporter": "python",
   "pygments_lexer": "ipython3",
   "version": "3.11.5"
  }
 },
 "nbformat": 4,
 "nbformat_minor": 5
}
